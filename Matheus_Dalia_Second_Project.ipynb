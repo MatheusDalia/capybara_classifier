{
  "cells": [
    {
      "cell_type": "code",
      "execution_count": 7,
      "id": "37d6cf5c",
      "metadata": {
        "id": "37d6cf5c"
      },
      "outputs": [],
      "source": [
        "# IMPORTS\n",
        "\n",
        "# The vision module of the fastai library contains all the necessary functions to define a Dataset and train a model for computer vision tasks.\n",
        "from fastai.vision.all import *\n",
        "\n",
        "# Converts anything that can be displayed by IPython into a widget\n",
        "from fastai.vision.widgets import *"
      ]
    },
    {
      "cell_type": "code",
      "execution_count": 8,
      "id": "9a65c02a",
      "metadata": {
        "id": "9a65c02a"
      },
      "outputs": [],
      "source": [
        "# LOAD MODEL\n",
        "\n",
        "# Loading a 'Learner' object (export.pkl) in 'path', by default putting it on the cpu\n",
        "path = Path()\n",
        "learn_inf = load_learner(path/'export.pkl', cpu=True)\n",
        "\n",
        "# Uploading widget to get file\n",
        "btn_upload = widgets.FileUpload()\n",
        "# To capture and display the output\n",
        "out_pl = widgets.Output()\n",
        "# To display predictions\n",
        "lbl_pred = widgets.Label()\n",
        "# Button to run\n",
        "btn_run = widgets.Button(description='Classify')"
      ]
    },
    {
      "cell_type": "code",
      "source": [
        "from google.colab import drive\n",
        "drive.mount('/content/drive')"
      ],
      "metadata": {
        "id": "kTMtnyJ1fSNE",
        "colab": {
          "base_uri": "https://localhost:8080/"
        },
        "outputId": "6078c9c8-5083-4486-ebed-5580bdeb4293"
      },
      "id": "kTMtnyJ1fSNE",
      "execution_count": 9,
      "outputs": [
        {
          "output_type": "stream",
          "name": "stdout",
          "text": [
            "Drive already mounted at /content/drive; to attempt to forcibly remount, call drive.mount(\"/content/drive\", force_remount=True).\n"
          ]
        }
      ]
    },
    {
      "cell_type": "code",
      "execution_count": 10,
      "id": "80123a81",
      "metadata": {
        "id": "80123a81"
      },
      "outputs": [],
      "source": [
        "# CREATE INTERFACE\n",
        "\n",
        "def on_data_change(change):\n",
        "    # Loading image\n",
        "    \n",
        "    # Creating the image object\n",
        "    img = PILImage.create(btn_upload.data[-1])\n",
        "    # Cleaning all text from the model's output area\n",
        "    out_pl.clear_output()\n",
        "    # Displaying the image with determinated dimensions\n",
        "    with out_pl: display(img.to_thumb(128,128))\n",
        "        \n",
        "    # Taking the predictions of the image made by the learner\n",
        "    pred, pred_idx, probs = learn_inf.predict(img)\n",
        "    \n",
        "    # Printing it    \n",
        "    lbl_pred.value = f'Predictions: {pred}; Probability: {probs[pred_idx]:.04f}'\n",
        "\n",
        "# Calling function\n",
        "btn_run.on_click(on_data_change)"
      ]
    },
    {
      "cell_type": "code",
      "execution_count": 11,
      "id": "a6081c73",
      "metadata": {
        "colab": {
          "referenced_widgets": [
            "dc770eb22df642c3a412889c229d790b",
            "0ddee3e540434d4f9869c0d817ae9b90",
            "a39b6a32deee42c6b822a56a85656175",
            "d84ae63c787f4fe9bdfb888612f160d6",
            "735a17a96c2b41a8bd6b334b7e32cfa6",
            "2fc86522fae34e6cadcfdd27bf724b47",
            "d8fdcef168ce4af093f1abd6f04b3d85",
            "42cc52b968de4ed4b3f146ec5296af5a",
            "b89ae95a94cc4da290570322210cb1b7",
            "8096292fe380476f814452112901d38a",
            "88cecaee89f2459e89bdbe2ecc107af4",
            "015adc54b6b746988766fafb52e9d910",
            "a31bb4f20f124b42b7a46da48a5a6d3f",
            "9cc88c14b5664173a139a91a0fe5232c",
            "b91f4da56a754246839dd288f2097ac6",
            "857fa4a5371d4c1e80a96224dc140945"
          ],
          "base_uri": "https://localhost:8080/",
          "height": 230
        },
        "id": "a6081c73",
        "outputId": "2a435b69-aa5f-49d8-ca3c-ef09367a1d46"
      },
      "outputs": [
        {
          "output_type": "display_data",
          "data": {
            "text/plain": [
              "VBox(children=(Label(value='Is this a capybara?'), FileUpload(value={}, description='Upload'), Button(descript…"
            ],
            "application/vnd.jupyter.widget-view+json": {
              "version_major": 2,
              "version_minor": 0,
              "model_id": "dc770eb22df642c3a412889c229d790b"
            }
          },
          "metadata": {}
        },
        {
          "output_type": "display_data",
          "data": {
            "text/plain": [
              "<IPython.core.display.HTML object>"
            ],
            "text/html": [
              "\n",
              "<style>\n",
              "    /* Turns off some styling */\n",
              "    progress {\n",
              "        /* gets rid of default border in Firefox and Opera. */\n",
              "        border: none;\n",
              "        /* Needs to be in here for Safari polyfill so background images work as expected. */\n",
              "        background-size: auto;\n",
              "    }\n",
              "    progress:not([value]), progress:not([value])::-webkit-progress-bar {\n",
              "        background: repeating-linear-gradient(45deg, #7e7e7e, #7e7e7e 10px, #5c5c5c 10px, #5c5c5c 20px);\n",
              "    }\n",
              "    .progress-bar-interrupted, .progress-bar-interrupted::-webkit-progress-bar {\n",
              "        background: #F44336;\n",
              "    }\n",
              "</style>\n"
            ]
          },
          "metadata": {}
        },
        {
          "output_type": "display_data",
          "data": {
            "text/plain": [
              "<IPython.core.display.HTML object>"
            ],
            "text/html": []
          },
          "metadata": {}
        }
      ],
      "source": [
        "# Display Predictions\n",
        "VBox([widgets.Label('Is this a capybara?'), \n",
        "      btn_upload, btn_run, out_pl, lbl_pred])"
      ]
    }
  ],
  "metadata": {
    "kernelspec": {
      "display_name": "fastai",
      "language": "python",
      "name": "fastai"
    },
    "language_info": {
      "codemirror_mode": {
        "name": "ipython",
        "version": 3
      },
      "file_extension": ".py",
      "mimetype": "text/x-python",
      "name": "python",
      "nbconvert_exporter": "python",
      "pygments_lexer": "ipython3",
      "version": "3.7.13"
    },
    "colab": {
      "provenance": []
    },
    "widgets": {
      "application/vnd.jupyter.widget-state+json": {
        "dc770eb22df642c3a412889c229d790b": {
          "model_module": "@jupyter-widgets/controls",
          "model_name": "VBoxModel",
          "model_module_version": "1.5.0",
          "state": {
            "_dom_classes": [],
            "_model_module": "@jupyter-widgets/controls",
            "_model_module_version": "1.5.0",
            "_model_name": "VBoxModel",
            "_view_count": null,
            "_view_module": "@jupyter-widgets/controls",
            "_view_module_version": "1.5.0",
            "_view_name": "VBoxView",
            "box_style": "",
            "children": [
              "IPY_MODEL_0ddee3e540434d4f9869c0d817ae9b90",
              "IPY_MODEL_a39b6a32deee42c6b822a56a85656175",
              "IPY_MODEL_d84ae63c787f4fe9bdfb888612f160d6",
              "IPY_MODEL_735a17a96c2b41a8bd6b334b7e32cfa6",
              "IPY_MODEL_2fc86522fae34e6cadcfdd27bf724b47"
            ],
            "layout": "IPY_MODEL_d8fdcef168ce4af093f1abd6f04b3d85"
          }
        },
        "0ddee3e540434d4f9869c0d817ae9b90": {
          "model_module": "@jupyter-widgets/controls",
          "model_name": "LabelModel",
          "model_module_version": "1.5.0",
          "state": {
            "_dom_classes": [],
            "_model_module": "@jupyter-widgets/controls",
            "_model_module_version": "1.5.0",
            "_model_name": "LabelModel",
            "_view_count": null,
            "_view_module": "@jupyter-widgets/controls",
            "_view_module_version": "1.5.0",
            "_view_name": "LabelView",
            "description": "",
            "description_tooltip": null,
            "layout": "IPY_MODEL_42cc52b968de4ed4b3f146ec5296af5a",
            "placeholder": "​",
            "style": "IPY_MODEL_b89ae95a94cc4da290570322210cb1b7",
            "value": "Is this a capybara?"
          }
        },
        "a39b6a32deee42c6b822a56a85656175": {
          "model_module": "@jupyter-widgets/controls",
          "model_name": "FileUploadModel",
          "model_module_version": "1.5.0",
          "state": {
            "_counter": 1,
            "_dom_classes": [],
            "_model_module": "@jupyter-widgets/controls",
            "_model_module_version": "1.5.0",
            "_model_name": "FileUploadModel",
            "_view_count": null,
            "_view_module": "@jupyter-widgets/controls",
            "_view_module_version": "1.5.0",
            "_view_name": "FileUploadView",
            "accept": "",
            "button_style": "",
            "data": [
              null
            ],
            "description": "Upload",
            "description_tooltip": null,
            "disabled": false,
            "error": "",
            "icon": "upload",
            "layout": "IPY_MODEL_8096292fe380476f814452112901d38a",
            "metadata": [
              {
                "name": "capy.jpeg",
                "type": "image/jpeg",
                "size": 9089,
                "lastModified": 1681934781813
              }
            ],
            "multiple": false,
            "style": "IPY_MODEL_88cecaee89f2459e89bdbe2ecc107af4"
          }
        },
        "d84ae63c787f4fe9bdfb888612f160d6": {
          "model_module": "@jupyter-widgets/controls",
          "model_name": "ButtonModel",
          "model_module_version": "1.5.0",
          "state": {
            "_dom_classes": [],
            "_model_module": "@jupyter-widgets/controls",
            "_model_module_version": "1.5.0",
            "_model_name": "ButtonModel",
            "_view_count": null,
            "_view_module": "@jupyter-widgets/controls",
            "_view_module_version": "1.5.0",
            "_view_name": "ButtonView",
            "button_style": "",
            "description": "Classify",
            "disabled": false,
            "icon": "",
            "layout": "IPY_MODEL_015adc54b6b746988766fafb52e9d910",
            "style": "IPY_MODEL_a31bb4f20f124b42b7a46da48a5a6d3f",
            "tooltip": ""
          }
        },
        "735a17a96c2b41a8bd6b334b7e32cfa6": {
          "model_module": "@jupyter-widgets/output",
          "model_name": "OutputModel",
          "model_module_version": "1.0.0",
          "state": {
            "_dom_classes": [],
            "_model_module": "@jupyter-widgets/output",
            "_model_module_version": "1.0.0",
            "_model_name": "OutputModel",
            "_view_count": null,
            "_view_module": "@jupyter-widgets/output",
            "_view_module_version": "1.0.0",
            "_view_name": "OutputView",
            "layout": "IPY_MODEL_857fa4a5371d4c1e80a96224dc140945",
            "msg_id": "",
            "outputs": [
              {
                "output_type": "display_data",
                "data": {
                  "text/plain": "<PIL.Image.Image image mode=RGB size=128x85>",
                  "image/png": "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\n"
                },
                "metadata": {}
              }
            ]
          }
        },
        "2fc86522fae34e6cadcfdd27bf724b47": {
          "model_module": "@jupyter-widgets/controls",
          "model_name": "LabelModel",
          "model_module_version": "1.5.0",
          "state": {
            "_dom_classes": [],
            "_model_module": "@jupyter-widgets/controls",
            "_model_module_version": "1.5.0",
            "_model_name": "LabelModel",
            "_view_count": null,
            "_view_module": "@jupyter-widgets/controls",
            "_view_module_version": "1.5.0",
            "_view_name": "LabelView",
            "description": "",
            "description_tooltip": null,
            "layout": "IPY_MODEL_9cc88c14b5664173a139a91a0fe5232c",
            "placeholder": "​",
            "style": "IPY_MODEL_b91f4da56a754246839dd288f2097ac6",
            "value": "Predictions: capybara; Probability: 1.0000"
          }
        },
        "d8fdcef168ce4af093f1abd6f04b3d85": {
          "model_module": "@jupyter-widgets/base",
          "model_name": "LayoutModel",
          "model_module_version": "1.2.0",
          "state": {
            "_model_module": "@jupyter-widgets/base",
            "_model_module_version": "1.2.0",
            "_model_name": "LayoutModel",
            "_view_count": null,
            "_view_module": "@jupyter-widgets/base",
            "_view_module_version": "1.2.0",
            "_view_name": "LayoutView",
            "align_content": null,
            "align_items": null,
            "align_self": null,
            "border": null,
            "bottom": null,
            "display": null,
            "flex": null,
            "flex_flow": null,
            "grid_area": null,
            "grid_auto_columns": null,
            "grid_auto_flow": null,
            "grid_auto_rows": null,
            "grid_column": null,
            "grid_gap": null,
            "grid_row": null,
            "grid_template_areas": null,
            "grid_template_columns": null,
            "grid_template_rows": null,
            "height": null,
            "justify_content": null,
            "justify_items": null,
            "left": null,
            "margin": null,
            "max_height": null,
            "max_width": null,
            "min_height": null,
            "min_width": null,
            "object_fit": null,
            "object_position": null,
            "order": null,
            "overflow": null,
            "overflow_x": null,
            "overflow_y": null,
            "padding": null,
            "right": null,
            "top": null,
            "visibility": null,
            "width": null
          }
        },
        "42cc52b968de4ed4b3f146ec5296af5a": {
          "model_module": "@jupyter-widgets/base",
          "model_name": "LayoutModel",
          "model_module_version": "1.2.0",
          "state": {
            "_model_module": "@jupyter-widgets/base",
            "_model_module_version": "1.2.0",
            "_model_name": "LayoutModel",
            "_view_count": null,
            "_view_module": "@jupyter-widgets/base",
            "_view_module_version": "1.2.0",
            "_view_name": "LayoutView",
            "align_content": null,
            "align_items": null,
            "align_self": null,
            "border": null,
            "bottom": null,
            "display": null,
            "flex": null,
            "flex_flow": null,
            "grid_area": null,
            "grid_auto_columns": null,
            "grid_auto_flow": null,
            "grid_auto_rows": null,
            "grid_column": null,
            "grid_gap": null,
            "grid_row": null,
            "grid_template_areas": null,
            "grid_template_columns": null,
            "grid_template_rows": null,
            "height": null,
            "justify_content": null,
            "justify_items": null,
            "left": null,
            "margin": null,
            "max_height": null,
            "max_width": null,
            "min_height": null,
            "min_width": null,
            "object_fit": null,
            "object_position": null,
            "order": null,
            "overflow": null,
            "overflow_x": null,
            "overflow_y": null,
            "padding": null,
            "right": null,
            "top": null,
            "visibility": null,
            "width": null
          }
        },
        "b89ae95a94cc4da290570322210cb1b7": {
          "model_module": "@jupyter-widgets/controls",
          "model_name": "DescriptionStyleModel",
          "model_module_version": "1.5.0",
          "state": {
            "_model_module": "@jupyter-widgets/controls",
            "_model_module_version": "1.5.0",
            "_model_name": "DescriptionStyleModel",
            "_view_count": null,
            "_view_module": "@jupyter-widgets/base",
            "_view_module_version": "1.2.0",
            "_view_name": "StyleView",
            "description_width": ""
          }
        },
        "8096292fe380476f814452112901d38a": {
          "model_module": "@jupyter-widgets/base",
          "model_name": "LayoutModel",
          "model_module_version": "1.2.0",
          "state": {
            "_model_module": "@jupyter-widgets/base",
            "_model_module_version": "1.2.0",
            "_model_name": "LayoutModel",
            "_view_count": null,
            "_view_module": "@jupyter-widgets/base",
            "_view_module_version": "1.2.0",
            "_view_name": "LayoutView",
            "align_content": null,
            "align_items": null,
            "align_self": null,
            "border": null,
            "bottom": null,
            "display": null,
            "flex": null,
            "flex_flow": null,
            "grid_area": null,
            "grid_auto_columns": null,
            "grid_auto_flow": null,
            "grid_auto_rows": null,
            "grid_column": null,
            "grid_gap": null,
            "grid_row": null,
            "grid_template_areas": null,
            "grid_template_columns": null,
            "grid_template_rows": null,
            "height": null,
            "justify_content": null,
            "justify_items": null,
            "left": null,
            "margin": null,
            "max_height": null,
            "max_width": null,
            "min_height": null,
            "min_width": null,
            "object_fit": null,
            "object_position": null,
            "order": null,
            "overflow": null,
            "overflow_x": null,
            "overflow_y": null,
            "padding": null,
            "right": null,
            "top": null,
            "visibility": null,
            "width": null
          }
        },
        "88cecaee89f2459e89bdbe2ecc107af4": {
          "model_module": "@jupyter-widgets/controls",
          "model_name": "ButtonStyleModel",
          "model_module_version": "1.5.0",
          "state": {
            "_model_module": "@jupyter-widgets/controls",
            "_model_module_version": "1.5.0",
            "_model_name": "ButtonStyleModel",
            "_view_count": null,
            "_view_module": "@jupyter-widgets/base",
            "_view_module_version": "1.2.0",
            "_view_name": "StyleView",
            "button_color": null,
            "font_weight": ""
          }
        },
        "015adc54b6b746988766fafb52e9d910": {
          "model_module": "@jupyter-widgets/base",
          "model_name": "LayoutModel",
          "model_module_version": "1.2.0",
          "state": {
            "_model_module": "@jupyter-widgets/base",
            "_model_module_version": "1.2.0",
            "_model_name": "LayoutModel",
            "_view_count": null,
            "_view_module": "@jupyter-widgets/base",
            "_view_module_version": "1.2.0",
            "_view_name": "LayoutView",
            "align_content": null,
            "align_items": null,
            "align_self": null,
            "border": null,
            "bottom": null,
            "display": null,
            "flex": null,
            "flex_flow": null,
            "grid_area": null,
            "grid_auto_columns": null,
            "grid_auto_flow": null,
            "grid_auto_rows": null,
            "grid_column": null,
            "grid_gap": null,
            "grid_row": null,
            "grid_template_areas": null,
            "grid_template_columns": null,
            "grid_template_rows": null,
            "height": null,
            "justify_content": null,
            "justify_items": null,
            "left": null,
            "margin": null,
            "max_height": null,
            "max_width": null,
            "min_height": null,
            "min_width": null,
            "object_fit": null,
            "object_position": null,
            "order": null,
            "overflow": null,
            "overflow_x": null,
            "overflow_y": null,
            "padding": null,
            "right": null,
            "top": null,
            "visibility": null,
            "width": null
          }
        },
        "a31bb4f20f124b42b7a46da48a5a6d3f": {
          "model_module": "@jupyter-widgets/controls",
          "model_name": "ButtonStyleModel",
          "model_module_version": "1.5.0",
          "state": {
            "_model_module": "@jupyter-widgets/controls",
            "_model_module_version": "1.5.0",
            "_model_name": "ButtonStyleModel",
            "_view_count": null,
            "_view_module": "@jupyter-widgets/base",
            "_view_module_version": "1.2.0",
            "_view_name": "StyleView",
            "button_color": null,
            "font_weight": ""
          }
        },
        "9cc88c14b5664173a139a91a0fe5232c": {
          "model_module": "@jupyter-widgets/base",
          "model_name": "LayoutModel",
          "model_module_version": "1.2.0",
          "state": {
            "_model_module": "@jupyter-widgets/base",
            "_model_module_version": "1.2.0",
            "_model_name": "LayoutModel",
            "_view_count": null,
            "_view_module": "@jupyter-widgets/base",
            "_view_module_version": "1.2.0",
            "_view_name": "LayoutView",
            "align_content": null,
            "align_items": null,
            "align_self": null,
            "border": null,
            "bottom": null,
            "display": null,
            "flex": null,
            "flex_flow": null,
            "grid_area": null,
            "grid_auto_columns": null,
            "grid_auto_flow": null,
            "grid_auto_rows": null,
            "grid_column": null,
            "grid_gap": null,
            "grid_row": null,
            "grid_template_areas": null,
            "grid_template_columns": null,
            "grid_template_rows": null,
            "height": null,
            "justify_content": null,
            "justify_items": null,
            "left": null,
            "margin": null,
            "max_height": null,
            "max_width": null,
            "min_height": null,
            "min_width": null,
            "object_fit": null,
            "object_position": null,
            "order": null,
            "overflow": null,
            "overflow_x": null,
            "overflow_y": null,
            "padding": null,
            "right": null,
            "top": null,
            "visibility": null,
            "width": null
          }
        },
        "b91f4da56a754246839dd288f2097ac6": {
          "model_module": "@jupyter-widgets/controls",
          "model_name": "DescriptionStyleModel",
          "model_module_version": "1.5.0",
          "state": {
            "_model_module": "@jupyter-widgets/controls",
            "_model_module_version": "1.5.0",
            "_model_name": "DescriptionStyleModel",
            "_view_count": null,
            "_view_module": "@jupyter-widgets/base",
            "_view_module_version": "1.2.0",
            "_view_name": "StyleView",
            "description_width": ""
          }
        },
        "857fa4a5371d4c1e80a96224dc140945": {
          "model_module": "@jupyter-widgets/base",
          "model_name": "LayoutModel",
          "model_module_version": "1.2.0",
          "state": {
            "_model_module": "@jupyter-widgets/base",
            "_model_module_version": "1.2.0",
            "_model_name": "LayoutModel",
            "_view_count": null,
            "_view_module": "@jupyter-widgets/base",
            "_view_module_version": "1.2.0",
            "_view_name": "LayoutView",
            "align_content": null,
            "align_items": null,
            "align_self": null,
            "border": null,
            "bottom": null,
            "display": null,
            "flex": null,
            "flex_flow": null,
            "grid_area": null,
            "grid_auto_columns": null,
            "grid_auto_flow": null,
            "grid_auto_rows": null,
            "grid_column": null,
            "grid_gap": null,
            "grid_row": null,
            "grid_template_areas": null,
            "grid_template_columns": null,
            "grid_template_rows": null,
            "height": null,
            "justify_content": null,
            "justify_items": null,
            "left": null,
            "margin": null,
            "max_height": null,
            "max_width": null,
            "min_height": null,
            "min_width": null,
            "object_fit": null,
            "object_position": null,
            "order": null,
            "overflow": null,
            "overflow_x": null,
            "overflow_y": null,
            "padding": null,
            "right": null,
            "top": null,
            "visibility": null,
            "width": null
          }
        }
      }
    }
  },
  "nbformat": 4,
  "nbformat_minor": 5
}